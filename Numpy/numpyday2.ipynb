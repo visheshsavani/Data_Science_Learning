{
 "cells": [
  {
   "cell_type": "markdown",
   "id": "b70757c0-17bb-4400-a470-107d312a0b4a",
   "metadata": {},
   "source": [
    "# Day 2 Learning"
   ]
  },
  {
   "cell_type": "code",
   "execution_count": 31,
   "id": "1ca77792-267a-4b70-8b4b-4e3684cf8c95",
   "metadata": {},
   "outputs": [
    {
     "name": "stdout",
     "output_type": "stream",
     "text": [
      "3\n",
      "(1, 1, 12)\n",
      "[[[ 2  1  3  1  1  2  3  2  3 21  1  4]]]\n",
      "\n",
      "[[[ 2]\n",
      "  [ 1]]\n",
      "\n",
      " [[ 3]\n",
      "  [ 1]]\n",
      "\n",
      " [[ 1]\n",
      "  [ 2]]\n",
      "\n",
      " [[ 3]\n",
      "  [ 2]]\n",
      "\n",
      " [[ 3]\n",
      "  [21]]\n",
      "\n",
      " [[ 1]\n",
      "  [ 4]]]\n",
      "3\n"
     ]
    }
   ],
   "source": [
    "import numpy as np\n",
    "x = np.array([2,1,3,1,1,2,3,2,3,21,1,4],ndmin=3)\n",
    "print(x.ndim)\n",
    "print(x.shape)\n",
    "print(x)\n",
    "print()\n",
    "var = x.reshape(6,2,1)\n",
    "print(var)\n",
    "print(var.ndim)"
   ]
  },
  {
   "cell_type": "markdown",
   "id": "a5ed401d-b6a2-41da-96f4-cef0ed9dc5e8",
   "metadata": {},
   "source": [
    "# Indexing and Slicing"
   ]
  },
  {
   "cell_type": "code",
   "execution_count": 32,
   "id": "90874f12-f27a-45c6-86b6-bb4e2637d0a7",
   "metadata": {},
   "outputs": [
    {
     "name": "stdout",
     "output_type": "stream",
     "text": [
      "21\n"
     ]
    }
   ],
   "source": [
    "import numpy as np # indexing in 1 dimension\n",
    "x = np.array([2,1,3,1,1,2,3,2,3,21,1,4],ndmin=1)\n",
    "print(x[9])"
   ]
  },
  {
   "cell_type": "code",
   "execution_count": 33,
   "id": "9fa85331-b091-4fba-94d3-e73c7d5aa97a",
   "metadata": {},
   "outputs": [
    {
     "name": "stdout",
     "output_type": "stream",
     "text": [
      "21\n"
     ]
    }
   ],
   "source": [
    "import numpy as np # indexing in 2 dimension\n",
    "x = np.array([2,1,3,1,1,2,3,2,3,21,1,4],ndmin=2)\n",
    "print(x[0,9])"
   ]
  },
  {
   "cell_type": "code",
   "execution_count": 35,
   "id": "20c83690-4ff3-4ab8-a2d5-f0df623d6e62",
   "metadata": {},
   "outputs": [
    {
     "name": "stdout",
     "output_type": "stream",
     "text": [
      "21\n"
     ]
    }
   ],
   "source": [
    "import numpy as np # indexing in 3 dimension\n",
    "x = np.array([2,1,3,1,1,2,3,2,3,21,1,4],ndmin=3)\n",
    "print(x[0,0,9])"
   ]
  },
  {
   "cell_type": "code",
   "execution_count": 59,
   "id": "bf6f3293-5955-4c63-8484-a4dd7f5022cf",
   "metadata": {},
   "outputs": [
    {
     "name": "stdout",
     "output_type": "stream",
     "text": [
      "x shape :  (1, 4, 2)\n",
      "32\n",
      "After Reshaping\n",
      "[[[ 2  1]]\n",
      "\n",
      " [[ 1  1]]\n",
      "\n",
      " [[ 2 32]]\n",
      "\n",
      " [[ 2  3]]]\n",
      "x shape :  (4, 1, 2)\n",
      "32\n"
     ]
    }
   ],
   "source": [
    "import numpy as np # indexing in 3 dimension before and after reshape\n",
    "x = np.array([[[2,1],[1,1],[2,32],[2,3]]])\n",
    "print(\"x shape : \",x.shape)\n",
    "print(x[0,2,1]) # -> Index change\n",
    "print(\"After Reshaping\")\n",
    "x = x.reshape(4,1,2) # -> Index Change\n",
    "print(x)\n",
    "print(\"x shape : \",x.shape)\n",
    "print(x[2,0,1])"
   ]
  },
  {
   "cell_type": "code",
   "execution_count": 56,
   "id": "a8202806-7cc6-47b8-9d98-184f05a341fd",
   "metadata": {},
   "outputs": [
    {
     "name": "stdout",
     "output_type": "stream",
     "text": [
      "[3 5 8]\n",
      "[3 5]\n",
      "[1 3 5]\n",
      "[1 3 5 8]\n",
      "[3]\n"
     ]
    }
   ],
   "source": [
    "import numpy as np # Slicing in 1 dimension\n",
    "x = np.array([1,3,5,8])\n",
    "print(x[1:])\n",
    "print(x[1:3])\n",
    "print(x[:-1])\n",
    "print(x[-4:])\n",
    "print(x[1:3:2])"
   ]
  },
  {
   "cell_type": "code",
   "execution_count": 63,
   "id": "b4848c9d-e811-4ace-9391-d1fc4e25378f",
   "metadata": {},
   "outputs": [
    {
     "name": "stdout",
     "output_type": "stream",
     "text": [
      "[[[ 2  1]\n",
      "  [ 1  1]\n",
      "  [ 2 32]\n",
      "  [ 2  3]]]\n",
      "[ 2 32]\n"
     ]
    }
   ],
   "source": [
    "import numpy as np # slicing in 3 dimension understand carefully\n",
    "x = np.array([[[2,1],[1,1],[2,32],[2,3]]])\n",
    "print(x)\n",
    "print(x[0,2,0:2])"
   ]
  },
  {
   "cell_type": "code",
   "execution_count": 65,
   "id": "7ce5a91d-e0ee-40d1-bbb2-729854179ed8",
   "metadata": {},
   "outputs": [
    {
     "name": "stdout",
     "output_type": "stream",
     "text": [
      "(1, 1, 8)\n",
      "[ 2 32]\n"
     ]
    }
   ],
   "source": [
    "import numpy as np # slicing in 3 dimension understand carefully\n",
    "x = np.array([2,1,1,1,2,32,2,3],ndmin=3)\n",
    "print(x.shape)\n",
    "print(x[0,0,4:6])"
   ]
  },
  {
   "cell_type": "markdown",
   "id": "d4301550-e8b7-46ef-ad1f-97c55603e925",
   "metadata": {},
   "source": [
    "# Iteration"
   ]
  },
  {
   "cell_type": "code",
   "execution_count": 68,
   "id": "a71a4ea5-22af-4919-8194-7a28de01b691",
   "metadata": {},
   "outputs": [
    {
     "name": "stdout",
     "output_type": "stream",
     "text": [
      "[ 2  1  1  1  2 32  2  3]\n",
      "\n",
      "2\n",
      "1\n",
      "1\n",
      "1\n",
      "2\n",
      "32\n",
      "2\n",
      "3\n"
     ]
    }
   ],
   "source": [
    "import numpy as np # Iteration in 2 dimension using for and nditer()\n",
    "x = np.array([2,1,1,1,2,32,2,3],ndmin=2)\n",
    "for i in x:\n",
    "    print(i)\n",
    "print()\n",
    "for i in np.nditer(x):\n",
    "    print(i)"
   ]
  },
  {
   "cell_type": "code",
   "execution_count": 83,
   "id": "d2f40447-d3d6-4382-8017-0180359d9146",
   "metadata": {},
   "outputs": [
    {
     "name": "stdout",
     "output_type": "stream",
     "text": [
      "[[ 2  1]\n",
      " [ 1  1]\n",
      " [ 2 32]\n",
      " [ 2  3]] \n",
      "\n",
      "2\n",
      "1\n",
      "1\n",
      "1\n",
      "2\n",
      "32\n",
      "2\n",
      "3\n",
      "\n",
      "((0, 0, 0), 2)\n",
      "((0, 0, 1), 1)\n",
      "((0, 1, 0), 1)\n",
      "((0, 1, 1), 1)\n",
      "((0, 2, 0), 2)\n",
      "((0, 2, 1), 32)\n",
      "((0, 3, 0), 2)\n",
      "((0, 3, 1), 3)\n"
     ]
    }
   ],
   "source": [
    "import numpy as np # iteration in 3 dimension using for and nditer\n",
    "x = np.array([[[2,1],[1,1],[2,32],[2,3]]])\n",
    "for i in x:\n",
    "    #for j in i:\n",
    "        #for k in j:\n",
    "    print(i,end=\" \")\n",
    "    print()\n",
    "print()\n",
    "for i in np.nditer(x):\n",
    "    print(i)\n",
    "print()\n",
    "for i in np.ndenumerate(x): # Use to show the index of corresponding value\n",
    "    print(i)"
   ]
  },
  {
   "cell_type": "markdown",
   "id": "f8f86ff8-54c6-4d2e-9480-5beb310c5e67",
   "metadata": {},
   "source": [
    "# Copy vs View"
   ]
  },
  {
   "cell_type": "code",
   "execution_count": 86,
   "id": "8750a708-00e8-400a-93f3-dc47aeeeec7b",
   "metadata": {},
   "outputs": [
    {
     "name": "stdout",
     "output_type": "stream",
     "text": [
      "[  1 385  29]\n",
      "[  1 385  29]\n",
      "[ 20 385  29]\n",
      "[ 35 385  29]\n"
     ]
    }
   ],
   "source": [
    "import numpy as np # In copy, the original data is store new array so changing in copy will not affect the original data\n",
    "x = np.array([1,385,29])\n",
    "co = x.copy()\n",
    "print(x)\n",
    "print(co)\n",
    "co[0] = 35\n",
    "x[0] =20\n",
    "print(x)\n",
    "print(co)"
   ]
  },
  {
   "cell_type": "code",
   "execution_count": 88,
   "id": "e256b749-3f9f-41f8-970a-4199f9af7704",
   "metadata": {},
   "outputs": [
    {
     "name": "stdout",
     "output_type": "stream",
     "text": [
      "[  1 385  29]\n",
      "[  1 385  29]\n",
      "[ 35 385  29]\n",
      "[ 20 385  29]\n"
     ]
    }
   ],
   "source": [
    "import numpy as np # In view,the data set is same so when changing the data using view variable vi then it will affect the original data\n",
    "x = np.array([1,385,29])\n",
    "vi = x.view()\n",
    "print(x)\n",
    "print(vi)\n",
    "vi[0] = 35\n",
    "print(x)\n",
    "x[0] =20\n",
    "print(x)"
   ]
  },
  {
   "cell_type": "markdown",
   "id": "1525f123-5221-495e-b346-37e1caa5a48c",
   "metadata": {},
   "source": [
    "# Join and Split"
   ]
  },
  {
   "cell_type": "code",
   "execution_count": 90,
   "id": "4feb0e25-b8c2-46d4-a577-95044447033a",
   "metadata": {},
   "outputs": [
    {
     "name": "stdout",
     "output_type": "stream",
     "text": [
      "[ 1 32  2  1 10  3 21 11]\n"
     ]
    }
   ],
   "source": [
    "import numpy as np\n",
    "x = np.array([1,32,2,1])\n",
    "y = np.array([10,3,21,11])\n",
    "k = np.concatenate((x,y))\n",
    "print(k)"
   ]
  },
  {
   "cell_type": "code",
   "execution_count": 95,
   "id": "749b8a64-1d6c-4e62-8457-77f63053a19d",
   "metadata": {},
   "outputs": [
    {
     "name": "stdout",
     "output_type": "stream",
     "text": [
      "[[   1   21  211  931]\n",
      " [  12   31 1211 9031]]\n",
      "\n",
      "[[   1   21  211  931   12   31 1211 9031]]\n"
     ]
    }
   ],
   "source": [
    "import numpy as np\n",
    "x = np.array([1,21,211,931],ndmin=2)\n",
    "y = np.array([12,31,1211,9031],ndmin=2)\n",
    "i = np.concatenate((x,y)) #-> bydefault axis = 0 i.e. column concatenation\n",
    "j = np.concatenate((x,y),axis=1) #-> axis =1 means row concatenation\n",
    "print(i)\n",
    "print()\n",
    "print(j)"
   ]
  },
  {
   "cell_type": "code",
   "execution_count": 99,
   "id": "daa76b9d-de7d-4bde-85e7-ab5afa7f0daf",
   "metadata": {},
   "outputs": [
    {
     "name": "stdout",
     "output_type": "stream",
     "text": [
      "[[[   1   21  211  931]]\n",
      "\n",
      " [[  12   31 1211 9031]]]\n",
      "\n",
      "[[   1   21  211  931   12   31 1211 9031]]\n",
      "[[   1   21  211  931]\n",
      " [  12   31 1211 9031]]\n",
      "(2, 1, 4)\n",
      "(2, 4)\n"
     ]
    }
   ],
   "source": [
    "import numpy as np\n",
    "x = np.array([1,21,211,931],ndmin=2)\n",
    "y = np.array([12,31,1211,9031],ndmin=2)\n",
    "i = np.stack((x,y)) #-> column\n",
    "j = np.hstack((x,y)) #-> row\n",
    "k = np.vstack((x,y)) #-> column\n",
    "\n",
    "print(i)\n",
    "print()\n",
    "print(j)\n",
    "print(k)\n",
    "print(i.shape)\n",
    "print(k.shape)"
   ]
  },
  {
   "cell_type": "code",
   "execution_count": 104,
   "id": "8602cae1-b631-452b-aba4-cec80c11b9f6",
   "metadata": {},
   "outputs": [
    {
     "name": "stdout",
     "output_type": "stream",
     "text": [
      "[array([[ 1, 21]]), array([[211, 931]])]\n",
      "[[ 1 21]]\n",
      "<class 'list'>\n"
     ]
    }
   ],
   "source": [
    "import numpy as np # Splitting of 2 dimension array\n",
    "x = np.array([[1,21],[211,931]])\n",
    "y = np.array_split(x,2)\n",
    "print(y)\n",
    "print(y[0])\n",
    "print(type(y))"
   ]
  },
  {
   "cell_type": "code",
   "execution_count": null,
   "id": "cd9671fc-0d84-44cd-853d-e3d82c130a36",
   "metadata": {},
   "outputs": [],
   "source": []
  }
 ],
 "metadata": {
  "kernelspec": {
   "display_name": "Python 3 (ipykernel)",
   "language": "python",
   "name": "python3"
  },
  "language_info": {
   "codemirror_mode": {
    "name": "ipython",
    "version": 3
   },
   "file_extension": ".py",
   "mimetype": "text/x-python",
   "name": "python",
   "nbconvert_exporter": "python",
   "pygments_lexer": "ipython3",
   "version": "3.12.1"
  }
 },
 "nbformat": 4,
 "nbformat_minor": 5
}
