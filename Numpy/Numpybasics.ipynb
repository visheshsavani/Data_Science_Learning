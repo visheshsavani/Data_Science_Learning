{
 "cells": [
  {
   "cell_type": "code",
   "execution_count": 1,
   "id": "86c3c07c-f3e9-454e-b518-e2c626595d5c",
   "metadata": {},
   "outputs": [],
   "source": [
    "import numpy"
   ]
  },
  {
   "cell_type": "code",
   "execution_count": 4,
   "id": "59392912-a573-4425-a6fc-fdd25fc752c4",
   "metadata": {},
   "outputs": [
    {
     "name": "stdout",
     "output_type": "stream",
     "text": [
      "[1 2 3 4]\n"
     ]
    }
   ],
   "source": [
    "import numpy as np\n",
    "x = np.array([1,2,3,4])\n",
    "print(x)"
   ]
  },
  {
   "cell_type": "code",
   "execution_count": 6,
   "id": "f1eff13b-d295-4cd1-832e-07c0ebce66e1",
   "metadata": {},
   "outputs": [
    {
     "name": "stdout",
     "output_type": "stream",
     "text": [
      "<class 'numpy.ndarray'>\n"
     ]
    }
   ],
   "source": [
    "print(type(x))"
   ]
  },
  {
   "cell_type": "code",
   "execution_count": 7,
   "id": "204da2aa-a098-40e1-b278-37ded85104b6",
   "metadata": {},
   "outputs": [
    {
     "name": "stdout",
     "output_type": "stream",
     "text": [
      "406 ns ± 9.77 ns per loop (mean ± std. dev. of 7 runs, 1,000,000 loops each)\n"
     ]
    }
   ],
   "source": [
    "%timeit [j**3 for j in range(1,9)]"
   ]
  },
  {
   "cell_type": "code",
   "execution_count": 9,
   "id": "770d5479-1a01-4fba-ba74-d7948ce541c9",
   "metadata": {},
   "outputs": [
    {
     "name": "stdout",
     "output_type": "stream",
     "text": [
      "1.35 µs ± 155 ns per loop (mean ± std. dev. of 7 runs, 1,000,000 loops each)\n"
     ]
    }
   ],
   "source": [
    "import numpy as np\n",
    "%timeit np.arange(1,9)**4 "
   ]
  },
  {
   "cell_type": "code",
   "execution_count": 11,
   "id": "d388f6c2-ffa1-44c8-a4ca-f4078b0981b5",
   "metadata": {},
   "outputs": [
    {
     "name": "stdin",
     "output_type": "stream",
     "text": [
      "Enter how many elements you want to enter in array 4\n",
      "Enter element :  5\n",
      "Enter element :  3\n",
      "Enter element :  78\n",
      "Enter element :  12\n"
     ]
    },
    {
     "name": "stdout",
     "output_type": "stream",
     "text": [
      "[ 5  3 78 12]\n"
     ]
    }
   ],
   "source": [
    "import numpy as np\n",
    "l = []\n",
    "x = int(input(\"Enter how many elements you want to enter in array\"))\n",
    "for i in range(1,x+1):\n",
    "    y = int(input(\"Enter element : \"))\n",
    "    l.append(y)\n",
    "z = np.array(l)\n",
    "print(z)"
   ]
  },
  {
   "cell_type": "code",
   "execution_count": 14,
   "id": "4e8ecdfb-4ef1-42bb-aca0-4f94bd792efe",
   "metadata": {},
   "outputs": [
    {
     "name": "stdout",
     "output_type": "stream",
     "text": [
      "[12  5  3  8]\n",
      "1\n"
     ]
    }
   ],
   "source": [
    "import numpy as np\n",
    "x = np.array([12,5,3,8])\n",
    "print(x)\n",
    "print(x.ndim)"
   ]
  },
  {
   "cell_type": "code",
   "execution_count": 31,
   "id": "17eb8755-a6b1-4fcc-bf26-ada312016f66",
   "metadata": {},
   "outputs": [
    {
     "name": "stdout",
     "output_type": "stream",
     "text": [
      "[[[[[[[[[[1 4 2]]]]]]]]]]\n",
      "10\n"
     ]
    }
   ],
   "source": [
    "import numpy as np\n",
    "y = np.array([1,4,2],ndmin=10)\n",
    "print(y)\n",
    "print(y.ndim)"
   ]
  },
  {
   "cell_type": "markdown",
   "id": "68ca5bc5-3a62-458b-8cd4-3a420e2f9ee1",
   "metadata": {},
   "source": [
    "# Types of Array"
   ]
  },
  {
   "cell_type": "code",
   "execution_count": 36,
   "id": "10561529-6f2b-4911-a3a1-1ca63d89f101",
   "metadata": {},
   "outputs": [
    {
     "name": "stdout",
     "output_type": "stream",
     "text": [
      "[[8.38009223e-312 3.16202013e-322 0.00000000e+000 0.00000000e+000]\n",
      " [1.03977794e-312 5.15250723e-062 3.96321673e-061 5.88364369e-062]\n",
      " [6.40181958e+170 2.08894364e-076 8.60534131e-067 2.44609108e-056]]\n"
     ]
    }
   ],
   "source": [
    "import numpy as  np\n",
    "x = np.empty(4)\n",
    "x = np.empty((3,4))\n",
    "print(x)"
   ]
  },
  {
   "cell_type": "code",
   "execution_count": 40,
   "id": "55d43269-5fa6-47c9-8cf6-26ecc9e00121",
   "metadata": {},
   "outputs": [
    {
     "name": "stdout",
     "output_type": "stream",
     "text": [
      "[[0. 0. 0. 0.]\n",
      " [0. 0. 0. 0.]\n",
      " [0. 0. 0. 0.]]\n"
     ]
    }
   ],
   "source": [
    "import numpy as  np\n",
    "x = np.zeros(4)\n",
    "x = np.zeros((3,4))\n",
    "print(x)"
   ]
  },
  {
   "cell_type": "code",
   "execution_count": 41,
   "id": "27b13a50-9027-4068-b2b1-735476dcddbc",
   "metadata": {},
   "outputs": [
    {
     "name": "stdout",
     "output_type": "stream",
     "text": [
      "[1. 1. 1. 1.]\n",
      "\n",
      "[[1. 1. 1.]\n",
      " [1. 1. 1.]\n",
      " [1. 1. 1.]\n",
      " [1. 1. 1.]\n",
      " [1. 1. 1.]]\n"
     ]
    }
   ],
   "source": [
    "import numpy as np\n",
    "z = np.ones(4)\n",
    "print(z)\n",
    "print()\n",
    "z = np.ones((5,3))\n",
    "print(z)"
   ]
  },
  {
   "cell_type": "code",
   "execution_count": 44,
   "id": "3a62a16e-0d00-4e6a-b0b5-acc724e2f09b",
   "metadata": {},
   "outputs": [
    {
     "name": "stdout",
     "output_type": "stream",
     "text": [
      "[0 1 2 3 4]\n"
     ]
    }
   ],
   "source": [
    "import numpy as np\n",
    "u = np.arange(5)\n",
    "print(u)"
   ]
  },
  {
   "cell_type": "code",
   "execution_count": 47,
   "id": "64f6858b-438b-464e-8e8e-a1c18a31b746",
   "metadata": {},
   "outputs": [
    {
     "name": "stdout",
     "output_type": "stream",
     "text": [
      "[ 1.  8. 15.]\n"
     ]
    }
   ],
   "source": [
    "import numpy as np\n",
    "i = np.linspace(1,15,num=3)\n",
    "print(i)"
   ]
  },
  {
   "cell_type": "code",
   "execution_count": null,
   "id": "d130bb92-66b7-4bfb-9615-12bc24e3a30a",
   "metadata": {},
   "outputs": [],
   "source": []
  }
 ],
 "metadata": {
  "kernelspec": {
   "display_name": "Python 3 (ipykernel)",
   "language": "python",
   "name": "python3"
  },
  "language_info": {
   "codemirror_mode": {
    "name": "ipython",
    "version": 3
   },
   "file_extension": ".py",
   "mimetype": "text/x-python",
   "name": "python",
   "nbconvert_exporter": "python",
   "pygments_lexer": "ipython3",
   "version": "3.12.1"
  }
 },
 "nbformat": 4,
 "nbformat_minor": 5
}
