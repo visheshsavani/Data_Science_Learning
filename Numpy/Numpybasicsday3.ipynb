{
 "cells": [
  {
   "cell_type": "markdown",
   "id": "20d44592-6242-4b9d-b300-96fccea235cb",
   "metadata": {},
   "source": [
    "# Numpy Array Functions"
   ]
  },
  {
   "cell_type": "code",
   "execution_count": 4,
   "id": "a903db8b-15a7-4e9d-8a53-0a628875eb9f",
   "metadata": {},
   "outputs": [
    {
     "name": "stdout",
     "output_type": "stream",
     "text": [
      "(array([0], dtype=int64),)\n",
      "<class 'tuple'>\n"
     ]
    }
   ],
   "source": [
    "import numpy as np # Searching in a array using Where Function\n",
    "x = np.array([2,113,31,59])\n",
    "y = np.where((x%2) == 0)\n",
    "print(y)\n",
    "print(type(y))"
   ]
  },
  {
   "cell_type": "code",
   "execution_count": 9,
   "id": "1b43ded9-99d7-4e27-83fa-2a5378a34a48",
   "metadata": {},
   "outputs": [
    {
     "name": "stdout",
     "output_type": "stream",
     "text": [
      "[  2  31  59 113]\n",
      "1\n"
     ]
    }
   ],
   "source": [
    "import numpy as np # Using sort sorting the function\n",
    "x = np.array([2,113,31,59])\n",
    "x = np.sort(x)\n",
    "print(x)\n",
    "y = np.searchsorted(x,31) # Search sorted is basically tells the index at which,given value will be inserted using binary search\n",
    "print(y)"
   ]
  },
  {
   "cell_type": "code",
   "execution_count": 10,
   "id": "1b16933c-4ada-461a-ab22-0e513f884fd1",
   "metadata": {},
   "outputs": [
    {
     "name": "stdout",
     "output_type": "stream",
     "text": [
      "[ 2 31]\n"
     ]
    }
   ],
   "source": [
    "import numpy as np # This whole code represent how to filter the elements to create a array which is desirable. let say in this array I want 2 and 31 in a new array then i will this procedure\n",
    "x = np.array([2,113,31,59])\n",
    "f = [True,False,True,False]\n",
    "var = x[f]\n",
    "print(var)"
   ]
  },
  {
   "cell_type": "code",
   "execution_count": 13,
   "id": "270a5a02-ef68-4b3b-b668-a96dc41dba24",
   "metadata": {},
   "outputs": [
    {
     "name": "stdout",
     "output_type": "stream",
     "text": [
      "[ 31   2 113  59]\n"
     ]
    }
   ],
   "source": [
    "import numpy as np # Random.shuffle function is used to shuffle the array\n",
    "x = np.array([2,113,31,59])\n",
    "np.random.shuffle(x)\n",
    "print(x)"
   ]
  },
  {
   "cell_type": "code",
   "execution_count": 16,
   "id": "c161e810-8eb7-4496-b2ca-7ae803b06c6e",
   "metadata": {},
   "outputs": [
    {
     "name": "stdout",
     "output_type": "stream",
     "text": [
      "(array([  2,   5,  31, 113]), array([0, 3, 2, 1], dtype=int64))\n"
     ]
    }
   ],
   "source": [
    "import numpy as np # Unique function is used to find the unique values from the array \n",
    "x = np.array([2,113,31,5,31,2])\n",
    "y = np.unique(x,return_index=True)# return_index parameter is optional\n",
    "print(y)"
   ]
  },
  {
   "cell_type": "code",
   "execution_count": 17,
   "id": "f077f1e3-eaef-4764-8940-7f1575012571",
   "metadata": {},
   "outputs": [
    {
     "name": "stdout",
     "output_type": "stream",
     "text": [
      "[[  2 113]\n",
      " [ 31  59]]\n"
     ]
    }
   ],
   "source": [
    "import numpy as np # Using resize we can change the dimension\n",
    "x = np.array([2,113,31,59])\n",
    "y = np.resize(x,(2,2))\n",
    "print(y)"
   ]
  },
  {
   "cell_type": "code",
   "execution_count": null,
   "id": "5037a989-9803-4c2d-9b36-22275fbf419e",
   "metadata": {},
   "outputs": [],
   "source": [
    "import numpy as np # Using sort sorting the function\n",
    "x = np.array([2,113,31,59])"
   ]
  },
  {
   "cell_type": "markdown",
   "id": "eb37afd1-ff1a-47cd-bdd9-574488b14d04",
   "metadata": {},
   "source": [
    "# Insert and Delete"
   ]
  },
  {
   "cell_type": "code",
   "execution_count": 22,
   "id": "090aa5ec-4b9c-4dd8-a028-98fe2a669fbb",
   "metadata": {},
   "outputs": [
    {
     "name": "stdout",
     "output_type": "stream",
     "text": [
      "[  2 113  31   8  59  46]\n"
     ]
    }
   ],
   "source": [
    "import numpy as np # Using insert and append,adding elements to the array\n",
    "x = np.array([2,113,31,59])\n",
    "x=np.insert(x,3,8)\n",
    "x = np.append(x,46)\n",
    "print(x)"
   ]
  },
  {
   "cell_type": "code",
   "execution_count": 26,
   "id": "9c6ff4cd-61ae-4754-8b92-4b4362d8ec6a",
   "metadata": {},
   "outputs": [
    {
     "name": "stdout",
     "output_type": "stream",
     "text": [
      "[[  2 113]\n",
      " [ 45  45]\n",
      " [ 31  59]]\n"
     ]
    }
   ],
   "source": [
    "import numpy as np # Using insert, adding elements to the array\n",
    "x = np.array([[2,113],[31,59]])\n",
    "x = np.insert(x,1,45,axis=0)\n",
    "print(x)"
   ]
  },
  {
   "cell_type": "code",
   "execution_count": 28,
   "id": "0b317fd5-b1e4-4fd9-81c9-d22025238c96",
   "metadata": {},
   "outputs": [
    {
     "name": "stdout",
     "output_type": "stream",
     "text": [
      "[  2 113  59]\n"
     ]
    }
   ],
   "source": [
    "import numpy as np # Using delete function\n",
    "x = np.array([2,113,31,59])\n",
    "x = np.delete(x,2)\n",
    "print(x)"
   ]
  },
  {
   "cell_type": "code",
   "execution_count": null,
   "id": "fc8b2edd-d728-4663-bbe5-d4673dbc4c8a",
   "metadata": {},
   "outputs": [],
   "source": []
  }
 ],
 "metadata": {
  "kernelspec": {
   "display_name": "Python 3 (ipykernel)",
   "language": "python",
   "name": "python3"
  },
  "language_info": {
   "codemirror_mode": {
    "name": "ipython",
    "version": 3
   },
   "file_extension": ".py",
   "mimetype": "text/x-python",
   "name": "python",
   "nbconvert_exporter": "python",
   "pygments_lexer": "ipython3",
   "version": "3.12.1"
  }
 },
 "nbformat": 4,
 "nbformat_minor": 5
}
