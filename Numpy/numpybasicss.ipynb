{
 "cells": [
  {
   "cell_type": "markdown",
   "id": "8db05819-22ba-4e97-bd22-f3746fe1edf0",
   "metadata": {},
   "source": [
    "# random function"
   ]
  },
  {
   "cell_type": "code",
   "execution_count": 2,
   "id": "bcc8c338-8e74-4c9d-8a34-60c08a5ce527",
   "metadata": {},
   "outputs": [
    {
     "name": "stdout",
     "output_type": "stream",
     "text": [
      "[[0.80088915 0.18873575]\n",
      " [0.08579815 0.65750377]\n",
      " [0.25001807 0.19862194]]\n"
     ]
    }
   ],
   "source": [
    "import numpy as np\n",
    "x = np.random.rand(3,2)\n",
    "print(x)"
   ]
  },
  {
   "cell_type": "code",
   "execution_count": 5,
   "id": "3d07f690-62a1-496d-9a82-311c1116e702",
   "metadata": {},
   "outputs": [
    {
     "name": "stdout",
     "output_type": "stream",
     "text": [
      "[0.50692507 0.64128455 0.43232508]\n"
     ]
    }
   ],
   "source": [
    "import numpy as np\n",
    "y = np.random.ranf(3)\n",
    "print(y)"
   ]
  },
  {
   "cell_type": "code",
   "execution_count": 6,
   "id": "bffefb75-8dbf-47e8-a553-e6a0e0ac78bb",
   "metadata": {},
   "outputs": [
    {
     "name": "stdout",
     "output_type": "stream",
     "text": [
      "[[ 0.78010045  1.84095803]\n",
      " [ 0.67152825 -1.08739163]\n",
      " [-0.12469899 -0.35394578]]\n"
     ]
    }
   ],
   "source": [
    "import numpy as np\n",
    "o = np.random.randn(3,2)\n",
    "print(o)"
   ]
  },
  {
   "cell_type": "code",
   "execution_count": 8,
   "id": "67d64de3-9660-43de-9381-30f86688ded0",
   "metadata": {},
   "outputs": [
    {
     "name": "stdout",
     "output_type": "stream",
     "text": [
      "[ 5  7 12 13 16  4 15 15 12  5  4 16  5  5 17  7]\n"
     ]
    }
   ],
   "source": [
    "import numpy as np\n",
    "w = np.random.randint(3,18,16)\n",
    "print(w)"
   ]
  },
  {
   "cell_type": "code",
   "execution_count": 10,
   "id": "bc89c763-a122-4df1-b86e-5c8778e495b6",
   "metadata": {},
   "outputs": [
    {
     "name": "stdout",
     "output_type": "stream",
     "text": [
      "[[[1 1 4]\n",
      "  [2 1 4]\n",
      "  [8 2 1]]]\n"
     ]
    }
   ],
   "source": [
    "import numpy as np\n",
    "n = np.array(([1,1,4],[2,1,4],[8,2,1]),ndmin=3)\n",
    "print(n)"
   ]
  },
  {
   "cell_type": "markdown",
   "id": "a647b9cd-f1aa-4838-8fd7-9001c871ea9b",
   "metadata": {},
   "source": [
    "# Changing datatypes"
   ]
  },
  {
   "cell_type": "code",
   "execution_count": 11,
   "id": "1008cfb0-671e-4e5d-809d-9e8f8c70859e",
   "metadata": {},
   "outputs": [
    {
     "name": "stdout",
     "output_type": "stream",
     "text": [
      "Data type :  int32\n"
     ]
    }
   ],
   "source": [
    "import numpy as np ##to check datatype\n",
    "x = np.array([1,2,3,4])\n",
    "print(\"Data type : \",x.dtype)"
   ]
  },
  {
   "cell_type": "code",
   "execution_count": 13,
   "id": "6bb24879-c5aa-43c6-af39-ef20cd8b46b4",
   "metadata": {},
   "outputs": [
    {
     "name": "stdout",
     "output_type": "stream",
     "text": [
      "Data type :  int16\n"
     ]
    }
   ],
   "source": [
    "import numpy as np ## 1st type\n",
    "x = np.array([1,2,3,4],dtype=np.int16)\n",
    "print(\"Data type : \",x.dtype)"
   ]
  },
  {
   "cell_type": "code",
   "execution_count": 16,
   "id": "9a8f92f4-3c9d-4b04-bc96-81112ca81179",
   "metadata": {},
   "outputs": [
    {
     "name": "stdout",
     "output_type": "stream",
     "text": [
      "Data type :  int32\n",
      "Data type ;  float32\n",
      "[1. 2. 3. 4.]\n",
      "[1 2 3 4]\n"
     ]
    }
   ],
   "source": [
    "import numpy as np ## 2nd type\n",
    "x = np.array([1,2,3,4])\n",
    "new = np.float32(x)\n",
    "print(\"Data type : \",x.dtype)\n",
    "print(\"Data type ; \",new.dtype)\n",
    "print(new)\n",
    "print(x)"
   ]
  },
  {
   "cell_type": "code",
   "execution_count": 19,
   "id": "b53326d5-7773-4dd7-bba5-99a6374bb084",
   "metadata": {},
   "outputs": [
    {
     "name": "stdout",
     "output_type": "stream",
     "text": [
      "Data type :  int32\n",
      "[0 2 3 4]\n",
      "[False  True  True  True]\n"
     ]
    }
   ],
   "source": [
    "import numpy as np ### 3rd type\n",
    "x = np.array([0,2,3,4])\n",
    "new = x.astype(bool)\n",
    "print(\"Data type : \",x.dtype)\n",
    "print(x)\n",
    "print(new)"
   ]
  },
  {
   "cell_type": "markdown",
   "id": "a77cfb59-3a6a-4f00-8248-f382de158a11",
   "metadata": {},
   "source": [
    "# Numpy Operations"
   ]
  },
  {
   "cell_type": "code",
   "execution_count": 20,
   "id": "efe68016-7100-479d-b668-f57ecf41cec1",
   "metadata": {},
   "outputs": [
    {
     "name": "stdout",
     "output_type": "stream",
     "text": [
      "[ 6  8 25  7]\n"
     ]
    }
   ],
   "source": [
    "import numpy as np # normal way\n",
    "x = np.array([2,4,21,3])\n",
    "b = x + 4\n",
    "print(b)"
   ]
  },
  {
   "cell_type": "code",
   "execution_count": 23,
   "id": "8583dda5-ce06-47e0-9666-a3cbd1ef2549",
   "metadata": {},
   "outputs": [
    {
     "name": "stdout",
     "output_type": "stream",
     "text": [
      "[ 4 38 42  6]\n"
     ]
    }
   ],
   "source": [
    "import numpy as np # using function\n",
    "x = np.array([2,4,21,3])\n",
    "b = np.array([2,34,21,3])\n",
    "add = np.add(x,b)\n",
    "print(add)"
   ]
  },
  {
   "cell_type": "code",
   "execution_count": 26,
   "id": "23535b8e-5c6e-4cff-b12f-d2c1ea480cbd",
   "metadata": {},
   "outputs": [
    {
     "name": "stdout",
     "output_type": "stream",
     "text": [
      "[0.25 0.5  0.2  0.5 ]\n"
     ]
    }
   ],
   "source": [
    "import numpy as np # reciprocal\n",
    "x = np.array([4,2,5,2])\n",
    "b = np.reciprocal(x.astype(float))\n",
    "print(b)"
   ]
  },
  {
   "cell_type": "code",
   "execution_count": 28,
   "id": "8578bd3d-610e-47b1-b7b5-e8988da0f502",
   "metadata": {},
   "outputs": [
    {
     "name": "stdout",
     "output_type": "stream",
     "text": [
      "[0 0 1 1]\n"
     ]
    }
   ],
   "source": [
    "import numpy as np # using mod\n",
    "x = np.array([32,2,11,9])\n",
    "b = np.mod(x,2)\n",
    "print(b)"
   ]
  },
  {
   "cell_type": "markdown",
   "id": "db3364c8-2972-42ac-a3f1-ae6d8fb2d807",
   "metadata": {},
   "source": [
    "# operation in 2d array"
   ]
  },
  {
   "cell_type": "code",
   "execution_count": 30,
   "id": "ab152057-1623-440f-a8c6-efd4327f2647",
   "metadata": {},
   "outputs": [
    {
     "name": "stdout",
     "output_type": "stream",
     "text": [
      "[[1024    4  121   81]\n",
      " [   4    1   16    4]]\n"
     ]
    }
   ],
   "source": [
    "import numpy as np # using mulitply\n",
    "x = np.array(([32,2,11,9],[2,1,4,2]),ndmin=2)\n",
    "y = np.array(([32,2,11,9],[2,1,4,2]),ndmin=2)\n",
    "mul = np.multiply(x,y)\n",
    "print(mul)"
   ]
  },
  {
   "cell_type": "markdown",
   "id": "85faef1a-8869-4be7-b161-1bb27d102af2",
   "metadata": {},
   "source": [
    "# Arithmetic Operations"
   ]
  },
  {
   "cell_type": "code",
   "execution_count": 31,
   "id": "df00ada9-76d9-4333-99e1-f23fa38f1cab",
   "metadata": {},
   "outputs": [
    {
     "name": "stdout",
     "output_type": "stream",
     "text": [
      "[[5.65685425 1.41421356 3.31662479 3.        ]\n",
      " [1.41421356 1.         2.         1.41421356]]\n"
     ]
    }
   ],
   "source": [
    "import numpy as np # using sqrt\n",
    "x = np.array(([32,2,11,9],[2,1,4,2]),ndmin=2)\n",
    "print(np.sqrt(x))"
   ]
  },
  {
   "cell_type": "code",
   "execution_count": 33,
   "id": "66885542-135b-4434-ab93-6c93b66d74ad",
   "metadata": {},
   "outputs": [
    {
     "name": "stdout",
     "output_type": "stream",
     "text": [
      "32 0\n",
      "1 5\n"
     ]
    }
   ],
   "source": [
    "import numpy as np # using max and min\n",
    "x = np.array(([32,2,11,9],[2,1,4,2]),ndmin=2)\n",
    "print(np.max(x),np.argmax(x)) ## argmax and argmin is used to find the index at which it is located whether it is maximum or minimum\n",
    "print(np.min(x),np.argmin(x))"
   ]
  },
  {
   "cell_type": "code",
   "execution_count": 39,
   "id": "c73b893a-c959-4cad-9915-1a6ee6da8421",
   "metadata": {},
   "outputs": [
    {
     "name": "stdout",
     "output_type": "stream",
     "text": [
      "[[32 34 45 54]\n",
      " [ 2  3  7  9]]\n",
      "[32 34 45 54 56 57 61 63]\n"
     ]
    }
   ],
   "source": [
    "import numpy as np # using cumsum bydeafault continious addition and if axis =1 then row addittion\n",
    "x = np.array(([32,2,11,9],[2,1,4,2]),ndmin=2)\n",
    "print(np.cumsum(x,axis=1))\n",
    "print(np.cumsum(x))"
   ]
  },
  {
   "cell_type": "code",
   "execution_count": 37,
   "id": "ab4495b1-d4f7-44f4-b155-61fb014f087c",
   "metadata": {},
   "outputs": [
    {
     "name": "stdout",
     "output_type": "stream",
     "text": [
      "[[32  2 11  9]\n",
      " [34  3 15 11]]\n"
     ]
    }
   ],
   "source": [
    "import numpy as np # using cumsum if axis = 0 then column addition\n",
    "x = np.array(([32,2,11,9],[2,1,4,2]),ndmin=2)\n",
    "print(np.cumsum(x,axis=0))"
   ]
  },
  {
   "cell_type": "code",
   "execution_count": 61,
   "id": "a2e7ffed-4db5-435d-afe2-4adbfb2349c5",
   "metadata": {},
   "outputs": [
    {
     "name": "stdout",
     "output_type": "stream",
     "text": [
      "size of x :  6\n"
     ]
    }
   ],
   "source": [
    "import numpy as np # no of elements in a array\n",
    "x = np.array([[123,21,21],[2,1,4]])\n",
    "print(\"size of x : \",x.size)"
   ]
  },
  {
   "cell_type": "markdown",
   "id": "51b26d64-f449-42ce-a5ac-f3e9030e61d3",
   "metadata": {},
   "source": [
    "# Shape and Reshape"
   ]
  },
  {
   "cell_type": "code",
   "execution_count": 51,
   "id": "9bd8147e-514e-47f4-aa16-091cf3c5ae65",
   "metadata": {},
   "outputs": [
    {
     "name": "stdout",
     "output_type": "stream",
     "text": [
      "2\n",
      "(2, 4)\n",
      "[[23  3  1  9]\n",
      " [ 3  3 21  1]]\n"
     ]
    }
   ],
   "source": [
    "import numpy as np # function to check the shape\n",
    "x = np.array(([23,3,1,9],[3,3,21,1]),ndmin=2)\n",
    "print(x.ndim)\n",
    "print(x.shape)\n",
    "print(x)"
   ]
  },
  {
   "cell_type": "code",
   "execution_count": 58,
   "id": "d636e4de-5876-4396-af5d-b940a168a54d",
   "metadata": {},
   "outputs": [
    {
     "name": "stdout",
     "output_type": "stream",
     "text": [
      "2\n",
      "(2, 4)\n",
      "\n",
      "3\n",
      "(2, 2, 2)\n",
      "[[[23  3]\n",
      "  [ 1  9]]\n",
      "\n",
      " [[ 3  3]\n",
      "  [21  1]]]\n"
     ]
    }
   ],
   "source": [
    "import numpy as np # function to change the shape\n",
    "x = np.array(([23,3,1,9],[3,3,21,1]),ndmin=2)\n",
    "print(x.ndim)\n",
    "print(x.shape)\n",
    "print()\n",
    "var = x.reshape(2,2,2)\n",
    "print(var.ndim)\n",
    "print(var.shape)\n",
    "print(var)"
   ]
  },
  {
   "cell_type": "code",
   "execution_count": 60,
   "id": "e51ee882-3afd-4208-8d89-cd897baa12cd",
   "metadata": {},
   "outputs": [
    {
     "name": "stdout",
     "output_type": "stream",
     "text": [
      "size of array :  12\n",
      "3\n",
      "(1, 1, 12)\n",
      "[[[ 2  1  3  1  1  2  3  2  3 21  1  4]]]\n",
      "\n",
      "[[[ 2]\n",
      "  [ 1]]\n",
      "\n",
      " [[ 3]\n",
      "  [ 1]]\n",
      "\n",
      " [[ 1]\n",
      "  [ 2]]\n",
      "\n",
      " [[ 3]\n",
      "  [ 2]]\n",
      "\n",
      " [[ 3]\n",
      "  [21]]\n",
      "\n",
      " [[ 1]\n",
      "  [ 4]]]\n",
      "3\n"
     ]
    }
   ],
   "source": [
    "import numpy as np # revise this always to understand better \n",
    "x = np.array([2,1,3,1,1,2,3,2,3,21,1,4],ndmin=3)\n",
    "print(\"size of array : \",x.size)\n",
    "print(x.ndim)\n",
    "print(x.shape)\n",
    "print(x)\n",
    "print()\n",
    "var = x.reshape(6,2,1) # output will be 6 rows further divided into 2 each row will have 1 column (6*2*1) = (number of elements in an array) i.e. 12\n",
    "print(var)\n",
    "print(var.ndim)"
   ]
  },
  {
   "cell_type": "code",
   "execution_count": 62,
   "id": "a6f54873-e2af-4ed4-a99e-5894e307a5df",
   "metadata": {},
   "outputs": [
    {
     "name": "stdout",
     "output_type": "stream",
     "text": [
      "(2, 3)\n"
     ]
    }
   ],
   "source": [
    "import numpy as np\n",
    "x = np.array([[1,2,2],[2,4,3]])\n",
    "print(x.shape)"
   ]
  },
  {
   "cell_type": "code",
   "execution_count": null,
   "id": "8731b260-89c8-4cdb-a4c3-1b9fdc2fac0a",
   "metadata": {},
   "outputs": [],
   "source": []
  }
 ],
 "metadata": {
  "kernelspec": {
   "display_name": "Python 3 (ipykernel)",
   "language": "python",
   "name": "python3"
  },
  "language_info": {
   "codemirror_mode": {
    "name": "ipython",
    "version": 3
   },
   "file_extension": ".py",
   "mimetype": "text/x-python",
   "name": "python",
   "nbconvert_exporter": "python",
   "pygments_lexer": "ipython3",
   "version": "3.12.1"
  }
 },
 "nbformat": 4,
 "nbformat_minor": 5
}
