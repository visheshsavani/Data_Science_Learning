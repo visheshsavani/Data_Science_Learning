{
 "cells": [
  {
   "cell_type": "markdown",
   "id": "ac429374-cca5-4872-bfaf-8fc5584169ec",
   "metadata": {},
   "source": [
    "# Creating a CSV File"
   ]
  },
  {
   "cell_type": "code",
   "execution_count": 4,
   "id": "c5046472-598f-4623-bb01-65e3110cda49",
   "metadata": {},
   "outputs": [
    {
     "name": "stdout",
     "output_type": "stream",
     "text": [
      "   Comps  CSE  EXTC\n",
      "0    200   21    10\n",
      "1     16   12    36\n",
      "2     23   98    53\n"
     ]
    }
   ],
   "source": [
    "import pandas as pd\n",
    "dict = {'Comps':[200,16,23],'CSE':[21,12,98],'EXTC':[10,36,53],}\n",
    "h = pd.DataFrame(dict)\n",
    "print(h)\n",
    "#h.to_csv(\"Department_details.csv\",index=False)\n",
    "h.to_csv(\"Department_details.csv\",index=False,header=['Marks1','Marks22','Marks3'])"
   ]
  },
  {
   "cell_type": "code",
   "execution_count": null,
   "id": "9625f719-2f5a-4f3e-bb14-797ad7a13f06",
   "metadata": {},
   "outputs": [],
   "source": []
  }
 ],
 "metadata": {
  "kernelspec": {
   "display_name": "Python 3 (ipykernel)",
   "language": "python",
   "name": "python3"
  },
  "language_info": {
   "codemirror_mode": {
    "name": "ipython",
    "version": 3
   },
   "file_extension": ".py",
   "mimetype": "text/x-python",
   "name": "python",
   "nbconvert_exporter": "python",
   "pygments_lexer": "ipython3",
   "version": "3.12.1"
  }
 },
 "nbformat": 4,
 "nbformat_minor": 5
}
