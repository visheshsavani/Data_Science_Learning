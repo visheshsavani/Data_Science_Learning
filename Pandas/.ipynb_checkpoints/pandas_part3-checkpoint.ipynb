{
 "cells": [
  {
   "cell_type": "markdown",
   "id": "04060717-138f-47ac-84e4-69c015457d55",
   "metadata": {},
   "source": [
    "# Concatenate and Merge Functions"
   ]
  },
  {
   "cell_type": "code",
   "execution_count": 9,
   "id": "e1c4642a-6c19-47ab-b11b-68b593561c1d",
   "metadata": {},
   "outputs": [
    {
     "data": {
      "text/html": [
       "<div>\n",
       "<style scoped>\n",
       "    .dataframe tbody tr th:only-of-type {\n",
       "        vertical-align: middle;\n",
       "    }\n",
       "\n",
       "    .dataframe tbody tr th {\n",
       "        vertical-align: top;\n",
       "    }\n",
       "\n",
       "    .dataframe thead th {\n",
       "        text-align: right;\n",
       "    }\n",
       "</style>\n",
       "<table border=\"1\" class=\"dataframe\">\n",
       "  <thead>\n",
       "    <tr style=\"text-align: right;\">\n",
       "      <th></th>\n",
       "      <th>A</th>\n",
       "      <th>B</th>\n",
       "      <th>C</th>\n",
       "      <th>_merge</th>\n",
       "    </tr>\n",
       "  </thead>\n",
       "  <tbody>\n",
       "    <tr>\n",
       "      <th>0</th>\n",
       "      <td>1</td>\n",
       "      <td>11.0</td>\n",
       "      <td>21.0</td>\n",
       "      <td>both</td>\n",
       "    </tr>\n",
       "    <tr>\n",
       "      <th>1</th>\n",
       "      <td>2</td>\n",
       "      <td>12.0</td>\n",
       "      <td>22.0</td>\n",
       "      <td>both</td>\n",
       "    </tr>\n",
       "    <tr>\n",
       "      <th>2</th>\n",
       "      <td>3</td>\n",
       "      <td>13.0</td>\n",
       "      <td>23.0</td>\n",
       "      <td>both</td>\n",
       "    </tr>\n",
       "    <tr>\n",
       "      <th>3</th>\n",
       "      <td>4</td>\n",
       "      <td>14.0</td>\n",
       "      <td>NaN</td>\n",
       "      <td>left_only</td>\n",
       "    </tr>\n",
       "    <tr>\n",
       "      <th>4</th>\n",
       "      <td>5</td>\n",
       "      <td>NaN</td>\n",
       "      <td>24.0</td>\n",
       "      <td>right_only</td>\n",
       "    </tr>\n",
       "  </tbody>\n",
       "</table>\n",
       "</div>"
      ],
      "text/plain": [
       "   A     B     C      _merge\n",
       "0  1  11.0  21.0        both\n",
       "1  2  12.0  22.0        both\n",
       "2  3  13.0  23.0        both\n",
       "3  4  14.0   NaN   left_only\n",
       "4  5   NaN  24.0  right_only"
      ]
     },
     "execution_count": 9,
     "metadata": {},
     "output_type": "execute_result"
    }
   ],
   "source": [
    "import pandas as pd\n",
    "var1 = pd.DataFrame({\"A\":[1,2,3,4],\"B\":[11,12,13,14]})\n",
    "var2 = pd.DataFrame({\"A\":[1,2,3,5],\"C\":[21,22,23,24]})\n",
    "pd.merge(var1,var2,how = \"outer\",indicator=True)\n",
    "# using how parameter we can show the inner , outer , left and right part after merging this concept is similar to joins of sql\n",
    "# using indicator parameter we can see how the data is merge"
   ]
  },
  {
   "cell_type": "code",
   "execution_count": 12,
   "id": "9875a048-ae4b-456d-883e-3ccf85264fbf",
   "metadata": {},
   "outputs": [
    {
     "data": {
      "text/html": [
       "<div>\n",
       "<style scoped>\n",
       "    .dataframe tbody tr th:only-of-type {\n",
       "        vertical-align: middle;\n",
       "    }\n",
       "\n",
       "    .dataframe tbody tr th {\n",
       "        vertical-align: top;\n",
       "    }\n",
       "\n",
       "    .dataframe thead th {\n",
       "        text-align: right;\n",
       "    }\n",
       "</style>\n",
       "<table border=\"1\" class=\"dataframe\">\n",
       "  <thead>\n",
       "    <tr style=\"text-align: right;\">\n",
       "      <th></th>\n",
       "      <th>Aname</th>\n",
       "      <th>Bname</th>\n",
       "      <th>Aid</th>\n",
       "      <th>Bid</th>\n",
       "    </tr>\n",
       "  </thead>\n",
       "  <tbody>\n",
       "    <tr>\n",
       "      <th>0</th>\n",
       "      <td>1</td>\n",
       "      <td>11</td>\n",
       "      <td>1</td>\n",
       "      <td>21</td>\n",
       "    </tr>\n",
       "    <tr>\n",
       "      <th>1</th>\n",
       "      <td>2</td>\n",
       "      <td>12</td>\n",
       "      <td>2</td>\n",
       "      <td>22</td>\n",
       "    </tr>\n",
       "    <tr>\n",
       "      <th>2</th>\n",
       "      <td>3</td>\n",
       "      <td>13</td>\n",
       "      <td>3</td>\n",
       "      <td>23</td>\n",
       "    </tr>\n",
       "    <tr>\n",
       "      <th>3</th>\n",
       "      <td>4</td>\n",
       "      <td>14</td>\n",
       "      <td>5</td>\n",
       "      <td>24</td>\n",
       "    </tr>\n",
       "  </tbody>\n",
       "</table>\n",
       "</div>"
      ],
      "text/plain": [
       "   Aname  Bname  Aid  Bid\n",
       "0      1     11    1   21\n",
       "1      2     12    2   22\n",
       "2      3     13    3   23\n",
       "3      4     14    5   24"
      ]
     },
     "execution_count": 12,
     "metadata": {},
     "output_type": "execute_result"
    }
   ],
   "source": [
    "# if we want to merge the below dataframes then we have to pass the left_index and right_index parameter as true\n",
    "var3 = pd.DataFrame({\"A\":[1,2,3,4],\"B\":[11,12,13,14]})\n",
    "var4 = pd.DataFrame({\"A\":[1,2,3,5],\"B\":[21,22,23,24]})\n",
    "pd.merge(var3,var4,left_index=True,right_index=True,suffixes=[\"name\",\"id\"])\n",
    "# using suffixes parameter we can give the name to the columns"
   ]
  },
  {
   "cell_type": "code",
   "execution_count": 16,
   "id": "1f546a52-7f63-4ff2-a609-dc8977d231df",
   "metadata": {},
   "outputs": [
    {
     "data": {
      "text/plain": [
       "0     1\n",
       "1     2\n",
       "2     3\n",
       "3     4\n",
       "0    11\n",
       "1    12\n",
       "2    13\n",
       "3    14\n",
       "dtype: int64"
      ]
     },
     "execution_count": 16,
     "metadata": {},
     "output_type": "execute_result"
    }
   ],
   "source": [
    "sr1 = pd.Series([1,2,3,4])\n",
    "sr2 = pd.Series([11,12,13,14])\n",
    "pd.concat([sr1,sr2])\n",
    "# if we want to merge the series we can only do it using concat function\n",
    "# if we want to merge the dataframe then we can use both merge and concat function \n",
    "# but in concat function it will not merge basis on the same column rather it will make new columns"
   ]
  },
  {
   "cell_type": "code",
   "execution_count": 22,
   "id": "df90efee-6205-465e-8c6a-666e7cf8088b",
   "metadata": {},
   "outputs": [
    {
     "data": {
      "text/html": [
       "<div>\n",
       "<style scoped>\n",
       "    .dataframe tbody tr th:only-of-type {\n",
       "        vertical-align: middle;\n",
       "    }\n",
       "\n",
       "    .dataframe tbody tr th {\n",
       "        vertical-align: top;\n",
       "    }\n",
       "\n",
       "    .dataframe thead tr th {\n",
       "        text-align: left;\n",
       "    }\n",
       "</style>\n",
       "<table border=\"1\" class=\"dataframe\">\n",
       "  <thead>\n",
       "    <tr>\n",
       "      <th></th>\n",
       "      <th colspan=\"2\" halign=\"left\">var3</th>\n",
       "      <th colspan=\"2\" halign=\"left\">var4</th>\n",
       "    </tr>\n",
       "    <tr>\n",
       "      <th></th>\n",
       "      <th>A</th>\n",
       "      <th>B</th>\n",
       "      <th>A</th>\n",
       "      <th>C</th>\n",
       "    </tr>\n",
       "  </thead>\n",
       "  <tbody>\n",
       "    <tr>\n",
       "      <th>0</th>\n",
       "      <td>1</td>\n",
       "      <td>11</td>\n",
       "      <td>1.0</td>\n",
       "      <td>21.0</td>\n",
       "    </tr>\n",
       "    <tr>\n",
       "      <th>1</th>\n",
       "      <td>2</td>\n",
       "      <td>12</td>\n",
       "      <td>2.0</td>\n",
       "      <td>22.0</td>\n",
       "    </tr>\n",
       "    <tr>\n",
       "      <th>2</th>\n",
       "      <td>3</td>\n",
       "      <td>13</td>\n",
       "      <td>NaN</td>\n",
       "      <td>NaN</td>\n",
       "    </tr>\n",
       "    <tr>\n",
       "      <th>3</th>\n",
       "      <td>4</td>\n",
       "      <td>14</td>\n",
       "      <td>NaN</td>\n",
       "      <td>NaN</td>\n",
       "    </tr>\n",
       "  </tbody>\n",
       "</table>\n",
       "</div>"
      ],
      "text/plain": [
       "  var3     var4      \n",
       "     A   B    A     C\n",
       "0    1  11  1.0  21.0\n",
       "1    2  12  2.0  22.0\n",
       "2    3  13  NaN   NaN\n",
       "3    4  14  NaN   NaN"
      ]
     },
     "execution_count": 22,
     "metadata": {},
     "output_type": "execute_result"
    }
   ],
   "source": [
    "var3 = pd.DataFrame({\"A\":[1,2,3,4],\"B\":[11,12,13,14]})\n",
    "var4 = pd.DataFrame({\"A\":[1,2],\"C\":[21,22]})\n",
    "pd.concat([var3,var4],axis=1,join=\"outer\",keys=[\"var3\",\"var4\"])\n",
    "# join parameter is used to join according to the value if \n",
    "# inner -> intersection\n",
    "# outer -> union\n",
    "# keys parameter is used to give names to the columns."
   ]
  },
  {
   "cell_type": "markdown",
   "id": "e2e5fdaf-97fb-4bc3-ab99-76b427614ba9",
   "metadata": {},
   "source": [
    "# GroupBy Functions"
   ]
  },
  {
   "cell_type": "code",
   "execution_count": 25,
   "id": "efe4e657-dc41-4e5b-bdd6-ba3a65a96da0",
   "metadata": {},
   "outputs": [
    {
     "data": {
      "text/html": [
       "<div>\n",
       "<style scoped>\n",
       "    .dataframe tbody tr th:only-of-type {\n",
       "        vertical-align: middle;\n",
       "    }\n",
       "\n",
       "    .dataframe tbody tr th {\n",
       "        vertical-align: top;\n",
       "    }\n",
       "\n",
       "    .dataframe thead th {\n",
       "        text-align: right;\n",
       "    }\n",
       "</style>\n",
       "<table border=\"1\" class=\"dataframe\">\n",
       "  <thead>\n",
       "    <tr style=\"text-align: right;\">\n",
       "      <th></th>\n",
       "      <th>Name</th>\n",
       "      <th>S_1</th>\n",
       "      <th>S_2</th>\n",
       "    </tr>\n",
       "  </thead>\n",
       "  <tbody>\n",
       "    <tr>\n",
       "      <th>0</th>\n",
       "      <td>a</td>\n",
       "      <td>2</td>\n",
       "      <td>2</td>\n",
       "    </tr>\n",
       "    <tr>\n",
       "      <th>1</th>\n",
       "      <td>b</td>\n",
       "      <td>1</td>\n",
       "      <td>1</td>\n",
       "    </tr>\n",
       "    <tr>\n",
       "      <th>2</th>\n",
       "      <td>c</td>\n",
       "      <td>2</td>\n",
       "      <td>7</td>\n",
       "    </tr>\n",
       "    <tr>\n",
       "      <th>3</th>\n",
       "      <td>a</td>\n",
       "      <td>4</td>\n",
       "      <td>8</td>\n",
       "    </tr>\n",
       "    <tr>\n",
       "      <th>4</th>\n",
       "      <td>a</td>\n",
       "      <td>2</td>\n",
       "      <td>2</td>\n",
       "    </tr>\n",
       "    <tr>\n",
       "      <th>5</th>\n",
       "      <td>b</td>\n",
       "      <td>4</td>\n",
       "      <td>1</td>\n",
       "    </tr>\n",
       "    <tr>\n",
       "      <th>6</th>\n",
       "      <td>c</td>\n",
       "      <td>1</td>\n",
       "      <td>11</td>\n",
       "    </tr>\n",
       "    <tr>\n",
       "      <th>7</th>\n",
       "      <td>c</td>\n",
       "      <td>4</td>\n",
       "      <td>4</td>\n",
       "    </tr>\n",
       "  </tbody>\n",
       "</table>\n",
       "</div>"
      ],
      "text/plain": [
       "  Name  S_1  S_2\n",
       "0    a    2    2\n",
       "1    b    1    1\n",
       "2    c    2    7\n",
       "3    a    4    8\n",
       "4    a    2    2\n",
       "5    b    4    1\n",
       "6    c    1   11\n",
       "7    c    4    4"
      ]
     },
     "execution_count": 25,
     "metadata": {},
     "output_type": "execute_result"
    }
   ],
   "source": [
    "var1 = pd.DataFrame({\n",
    "    \"Name\":[\"a\",\"b\",\"c\",\"a\",\"a\",\"b\",\"c\",\"c\"],\n",
    "    \"S_1\":[2,1,2,4,2,4,1,4],\n",
    "    \"S_2\":[2,1,7,8,2,1,11,4]\n",
    "})\n",
    "var1"
   ]
  },
  {
   "cell_type": "code",
   "execution_count": 26,
   "id": "baed4911-6b65-4283-bb15-fc10ccbd1a82",
   "metadata": {},
   "outputs": [
    {
     "data": {
      "text/plain": [
       "<pandas.core.groupby.generic.DataFrameGroupBy object at 0x000002A2D28C2DE0>"
      ]
     },
     "execution_count": 26,
     "metadata": {},
     "output_type": "execute_result"
    }
   ],
   "source": [
    "var_new = var1.groupby(\"Name\") # in this way we can group the random data\n",
    "var_new"
   ]
  },
  {
   "cell_type": "code",
   "execution_count": 27,
   "id": "80d7f2c9-bfec-419e-8540-bd45c5cd2bd6",
   "metadata": {},
   "outputs": [
    {
     "name": "stdout",
     "output_type": "stream",
     "text": [
      "a\n",
      "  Name  S_1  S_2\n",
      "0    a    2    2\n",
      "3    a    4    8\n",
      "4    a    2    2\n",
      "\n",
      "b\n",
      "  Name  S_1  S_2\n",
      "1    b    1    1\n",
      "5    b    4    1\n",
      "\n",
      "c\n",
      "  Name  S_1  S_2\n",
      "2    c    2    7\n",
      "6    c    1   11\n",
      "7    c    4    4\n",
      "\n"
     ]
    }
   ],
   "source": [
    "for x,y in var_new: # in this way we can see the output\n",
    "    print(x)\n",
    "    print(y)\n",
    "    print()"
   ]
  },
  {
   "cell_type": "code",
   "execution_count": 28,
   "id": "6ded2c50-6671-4160-a673-4ca8512d4567",
   "metadata": {},
   "outputs": [
    {
     "data": {
      "text/html": [
       "<div>\n",
       "<style scoped>\n",
       "    .dataframe tbody tr th:only-of-type {\n",
       "        vertical-align: middle;\n",
       "    }\n",
       "\n",
       "    .dataframe tbody tr th {\n",
       "        vertical-align: top;\n",
       "    }\n",
       "\n",
       "    .dataframe thead th {\n",
       "        text-align: right;\n",
       "    }\n",
       "</style>\n",
       "<table border=\"1\" class=\"dataframe\">\n",
       "  <thead>\n",
       "    <tr style=\"text-align: right;\">\n",
       "      <th></th>\n",
       "      <th>Name</th>\n",
       "      <th>S_1</th>\n",
       "      <th>S_2</th>\n",
       "    </tr>\n",
       "  </thead>\n",
       "  <tbody>\n",
       "    <tr>\n",
       "      <th>2</th>\n",
       "      <td>c</td>\n",
       "      <td>2</td>\n",
       "      <td>7</td>\n",
       "    </tr>\n",
       "    <tr>\n",
       "      <th>6</th>\n",
       "      <td>c</td>\n",
       "      <td>1</td>\n",
       "      <td>11</td>\n",
       "    </tr>\n",
       "    <tr>\n",
       "      <th>7</th>\n",
       "      <td>c</td>\n",
       "      <td>4</td>\n",
       "      <td>4</td>\n",
       "    </tr>\n",
       "  </tbody>\n",
       "</table>\n",
       "</div>"
      ],
      "text/plain": [
       "  Name  S_1  S_2\n",
       "2    c    2    7\n",
       "6    c    1   11\n",
       "7    c    4    4"
      ]
     },
     "execution_count": 28,
     "metadata": {},
     "output_type": "execute_result"
    }
   ],
   "source": [
    "var_new.get_group(\"c\") # in this way we can get the data of a specific cell in this eg c"
   ]
  },
  {
   "cell_type": "code",
   "execution_count": 30,
   "id": "b91137c2-d2db-45d9-b894-ce3c669cf619",
   "metadata": {},
   "outputs": [
    {
     "name": "stdout",
     "output_type": "stream",
     "text": [
      "      S_1  S_2\n",
      "Name          \n",
      "a       2    2\n",
      "b       1    1\n",
      "c       1    4\n",
      "\n",
      "      S_1  S_2\n",
      "Name          \n",
      "a       4    8\n",
      "b       4    1\n",
      "c       4   11\n",
      "\n",
      "           S_1       S_2\n",
      "Name                    \n",
      "a     2.666667  4.000000\n",
      "b     2.500000  1.000000\n",
      "c     2.333333  7.333333\n"
     ]
    }
   ],
   "source": [
    "# in the below way we can find out the min max and mean value of specific data\n",
    "a = var_new.min()\n",
    "print(a)\n",
    "print()\n",
    "b = var_new.max()\n",
    "print(b)\n",
    "print()\n",
    "c= var_new.mean()\n",
    "print(c)"
   ]
  },
  {
   "cell_type": "code",
   "execution_count": 31,
   "id": "5b38097e-608e-4dee-bf58-d6a7a518e701",
   "metadata": {},
   "outputs": [
    {
     "name": "stdout",
     "output_type": "stream",
     "text": [
      "[('a',   Name  S_1  S_2\n",
      "0    a    2    2\n",
      "3    a    4    8\n",
      "4    a    2    2), ('b',   Name  S_1  S_2\n",
      "1    b    1    1\n",
      "5    b    4    1), ('c',   Name  S_1  S_2\n",
      "2    c    2    7\n",
      "6    c    1   11\n",
      "7    c    4    4)]\n"
     ]
    }
   ],
   "source": [
    "li = list(var_new) # we can also save this in a list\n",
    "print(li)"
   ]
  }
 ],
 "metadata": {
  "kernelspec": {
   "display_name": "Python 3 (ipykernel)",
   "language": "python",
   "name": "python3"
  },
  "language_info": {
   "codemirror_mode": {
    "name": "ipython",
    "version": 3
   },
   "file_extension": ".py",
   "mimetype": "text/x-python",
   "name": "python",
   "nbconvert_exporter": "python",
   "pygments_lexer": "ipython3",
   "version": "3.12.1"
  }
 },
 "nbformat": 4,
 "nbformat_minor": 5
}
